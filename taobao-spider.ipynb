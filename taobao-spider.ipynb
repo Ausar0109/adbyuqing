{
 "cells": [
  {
   "cell_type": "code",
   "execution_count": 1,
   "metadata": {},
   "outputs": [],
   "source": [
    "import pyperclip,re,pyautogui,time\n",
    "import pandas as pd\n",
    "from random import choice\n",
    "import jieba.analyse\n",
    "\n",
    "pyautogui.PAUSE = 0.102"
   ]
  },
  {
   "cell_type": "code",
   "execution_count": 2,
   "metadata": {},
   "outputs": [],
   "source": [
    "diyichuangkou = (146,9)\n",
    "blankk = (300,400)\n",
    "xiayiye0 = (1262,510)\n",
    "xiayiye = (1262,550)\n",
    "\n",
    "def ppaste(astr):\n",
    "    pyperclip.copy(astr)\n",
    "    pyautogui.hotkey('ctrl', 'v')\n",
    "    \n",
    "def clickk(atuple):\n",
    "    pyautogui.moveTo(atuple,duration=0.101,pause=0.101)\n",
    "    pyautogui.click(pause=0.101)\n",
    "\n",
    "def loc(apng):\n",
    "    try:\n",
    "        xiayiye = pyautogui.locateCenterOnScreen(apng,grayscale=False)\n",
    "        return xiayiye\n",
    "    except:\n",
    "        return None\n",
    "\n",
    "def find_nextpage():\n",
    "    pyautogui.hotkey('ctrl','f')\n",
    "    pyautogui.press('enter')\n",
    "    pyautogui.press('esc')\n",
    "    clickk(blankk)\n",
    "\n",
    "def find_from_source(asource):\n",
    "    try:\n",
    "        asource = asource.replace('\\r\\n','')\n",
    "        pinglun1 = pd.Series(re.findall(r'有内容按默.{10,10000}?（匿',asource,flags=re.DOTALL))\n",
    "        pinglun1 = pinglun1.map(lambda x:x[6:])\n",
    "        pinglun2 = pd.Series(re.findall(r'名）.{10,10000}?（匿',asource,flags=re.DOTALL))\n",
    "        pinglun = pd.concat([pinglun1,pinglun2])\n",
    "        \n",
    "        pinglun = pinglun.str.replace('.{5,5}解释：.*','')\n",
    "        pinglun = pinglun.str.replace('.*天后追加：','')\n",
    "        pinglun = pinglun.str.replace('超级会员|名）|.{5,5}（匿','')\n",
    "        pinglun = pinglun.str.replace('[0-9][0-9].{1,1}[0-9][0-9]','')\n",
    "        pinglun = pinglun[pinglun.map(lambda x: False if '下一页' in x else True)]\n",
    "        pinglun = pinglun[pinglun.map(lambda x: False if '查看更多的' in x else True)]\n",
    "        return pinglun\n",
    "    except:\n",
    "        return pd.Series()"
   ]
  },
  {
   "cell_type": "code",
   "execution_count": 3,
   "metadata": {
    "scrolled": false
   },
   "outputs": [
    {
     "name": "stdout",
     "output_type": "stream",
     "text": [
      "雅乐思TimTam双涂层巧克力饼干200g2袋澳大利亚进口夹心威化零食\n"
     ]
    }
   ],
   "source": [
    "filename = pyperclip.paste()\n",
    "filename = filename.replace('*','').replace('\\/','').replace('\\'','')\n",
    "print(filename)"
   ]
  },
  {
   "cell_type": "code",
   "execution_count": 4,
   "metadata": {},
   "outputs": [],
   "source": [
    "df = pd.Series()"
   ]
  },
  {
   "cell_type": "code",
   "execution_count": 5,
   "metadata": {},
   "outputs": [
    {
     "name": "stderr",
     "output_type": "stream",
     "text": [
      "f:\\miniconda3\\lib\\site-packages\\ipykernel_launcher.py:22: FutureWarning: The signature of `Series.to_csv` was aligned to that of `DataFrame.to_csv`, and argument 'header' will change its default value from False to True: please pass an explicit value to suppress this warning.\n"
     ]
    }
   ],
   "source": [
    "clickk(diyichuangkou)\n",
    "\n",
    "for i in range(100):\n",
    "    clickk(blankk)\n",
    "    pyautogui.hotkey('ctrl','a')\n",
    "    pyautogui.hotkey('ctrl','c')\n",
    "    zhengwen = pyperclip.paste()\n",
    "    \n",
    "    try:\n",
    "        pinglun = find_from_source(zhengwen)\n",
    "        df = pd.concat([df,pinglun])\n",
    "    except:\n",
    "        raise TypeError\n",
    "    \n",
    "    if '为什么被折叠' in zhengwen:\n",
    "        break\n",
    "    \n",
    "    clickk(blankk)\n",
    "    find_nextpage()\n",
    "    clickk(xiayiye0) if i==0 else clickk(xiayiye)\n",
    "    \n",
    "df.drop_duplicates().to_csv(filename+'.csv',index=False,encoding='gb18030')"
   ]
  }
 ],
 "metadata": {
  "kernelspec": {
   "display_name": "Python 3",
   "language": "python",
   "name": "python3"
  },
  "language_info": {
   "codemirror_mode": {
    "name": "ipython",
    "version": 3
   },
   "file_extension": ".py",
   "mimetype": "text/x-python",
   "name": "python",
   "nbconvert_exporter": "python",
   "pygments_lexer": "ipython3",
   "version": "3.6.8"
  }
 },
 "nbformat": 4,
 "nbformat_minor": 2
}
