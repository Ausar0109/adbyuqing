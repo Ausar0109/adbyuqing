{
 "cells": [
  {
   "cell_type": "code",
   "execution_count": 1,
   "metadata": {},
   "outputs": [],
   "source": [
    "import os\n",
    "import pandas as pd\n",
    "from yqcore import keyword_columns,readfile"
   ]
  },
  {
   "cell_type": "code",
   "execution_count": 2,
   "metadata": {},
   "outputs": [
    {
     "data": {
      "text/plain": [
       "['data/1_预售 YSL圣罗兰Mon Paris反转巴黎女士香水 浪漫失魂果EDP 正品.xlsx',\n",
       " 'data/2_【直营】意大利BVLGARI宝格丽进口紫晶纯香女士淡香水花香.xlsx',\n",
       " 'data/3_维密 经典性感女郎香水 花果香 BO 50ml 何穗同款力荐10037206.xlsx',\n",
       " 'data/4_维多利亚的秘密 金色天使系列香水 尊贵系列 AG 50ml 11056309.xlsx']"
      ]
     },
     "execution_count": 2,
     "metadata": {},
     "output_type": "execute_result"
    }
   ],
   "source": [
    "filelist = ['data/' + i for i in os.listdir('data') if 'cibao' not in i]\n",
    "filelist"
   ]
  },
  {
   "cell_type": "code",
   "execution_count": 3,
   "metadata": {
    "scrolled": false
   },
   "outputs": [
    {
     "name": "stdout",
     "output_type": "stream",
     "text": [
      "data/1_预售 YSL圣罗兰Mon Paris反转巴黎女士香水 浪漫失魂果EDP 正品.xlsx\n",
      "data/2_【直营】意大利BVLGARI宝格丽进口紫晶纯香女士淡香水花香.xlsx\n",
      "data/3_维密 经典性感女郎香水 花果香 BO 50ml 何穗同款力荐10037206.xlsx\n",
      "data/4_维多利亚的秘密 金色天使系列香水 尊贵系列 AG 50ml 11056309.xlsx\n"
     ]
    }
   ],
   "source": [
    "for i in filelist:\n",
    "    print(i)\n",
    "    filename = i[5:]\n",
    "    filename = filename.split('.')[0]\n",
    "    \n",
    "    rizhipath = 'res/' + filename + '【分析结果】.xlsx'\n",
    "    pd.DataFrame([]).to_excel(rizhipath)\n",
    "    excelWriter = pd.ExcelWriter(rizhipath)\n",
    "    \n",
    "    df = readfile(i,header=None)\n",
    "    df.columns = ['【源数据】']\n",
    "    df['【源数据】'] = df['【源数据】'].map(lambda x:str(x))\n",
    "    df.to_excel(excelWriter,sheet_name='原始数据')\n",
    "    \n",
    "    cibao = readfile('data/cibao.csv')\n",
    "    cibao[cibao.columns[-1]] = cibao[cibao.columns[-1]].map(lambda x:str(x))\n",
    "    \n",
    "    for x in cibao[cibao.columns[-1]]:\n",
    "        df = keyword_columns(df,x)\n",
    "    #df.to_excel(excelWriter,sheet_name='词频检索')\n",
    "    \n",
    "    cdf = df.sum(axis=0)\n",
    "    cibao['频数'] = cibao[cibao.columns[-1]].map(cdf)\n",
    "    \n",
    "    res = cibao.groupby(list(cibao.columns[:-2]))[['频数']].sum()\n",
    "    res['占比'] = (res['频数']/res['频数'].sum()).map(lambda x: str(100*x)[:4] +'%')\n",
    "    res = res.loc[res.频数!=0]\n",
    "    res.sort_values(by='频数',ascending=False)\n",
    "    res.to_excel(excelWriter,sheet_name='分组结果统计')\n",
    "    \n",
    "    res = cibao.groupby(list(cibao.columns[:-1]))[['频数']].sum()\n",
    "    res['占比'] = (res['频数']/res['频数'].sum()).map(lambda x: str(100*x)[:4] +'%')\n",
    "    res = res.loc[res.频数!=0]\n",
    "    res.sort_values(by='频数',ascending=False)\n",
    "    res.to_excel(excelWriter,sheet_name='索引展开统计')\n",
    "    \n",
    "    excelWriter.save()\n",
    "    excelWriter.close()"
   ]
  },
  {
   "cell_type": "markdown",
   "metadata": {},
   "source": [
    "## 设计\n",
    "### 原数据 csv ，无head\n",
    "### 词包 csv ，正负-一级-二级-检索，有head"
   ]
  },
  {
   "cell_type": "code",
   "execution_count": 4,
   "metadata": {},
   "outputs": [
    {
     "name": "stdout",
     "output_type": "stream",
     "text": [
      "Done\n"
     ]
    }
   ],
   "source": [
    "print('Done')"
   ]
  },
  {
   "cell_type": "code",
   "execution_count": null,
   "metadata": {},
   "outputs": [],
   "source": []
  }
 ],
 "metadata": {
  "kernelspec": {
   "display_name": "Python 3",
   "language": "python",
   "name": "python3"
  },
  "language_info": {
   "codemirror_mode": {
    "name": "ipython",
    "version": 3
   },
   "file_extension": ".py",
   "mimetype": "text/x-python",
   "name": "python",
   "nbconvert_exporter": "python",
   "pygments_lexer": "ipython3",
   "version": "3.6.8"
  }
 },
 "nbformat": 4,
 "nbformat_minor": 2
}
