{
 "cells": [
  {
   "cell_type": "code",
   "execution_count": 1,
   "metadata": {
    "collapsed": true
   },
   "outputs": [],
   "source": [
    "from demo import *\n",
    "import pandas as pd\n",
    "import os"
   ]
  },
  {
   "cell_type": "markdown",
   "metadata": {},
   "source": [
    "# 1评论正文数据格式"
   ]
  },
  {
   "cell_type": "code",
   "execution_count": 2,
   "metadata": {},
   "outputs": [
    {
     "data": {
      "text/html": [
       "<div>\n",
       "<style scoped>\n",
       "    .dataframe tbody tr th:only-of-type {\n",
       "        vertical-align: middle;\n",
       "    }\n",
       "\n",
       "    .dataframe tbody tr th {\n",
       "        vertical-align: top;\n",
       "    }\n",
       "\n",
       "    .dataframe thead th {\n",
       "        text-align: right;\n",
       "    }\n",
       "</style>\n",
       "<table border=\"1\" class=\"dataframe\">\n",
       "  <thead>\n",
       "    <tr style=\"text-align: right;\">\n",
       "      <th></th>\n",
       "      <th>content</th>\n",
       "    </tr>\n",
       "  </thead>\n",
       "  <tbody>\n",
       "    <tr>\n",
       "      <th>0</th>\n",
       "      <td>想要紫色的，可惜前阵子买的时候没有了，对懒人来说使用起来很酸爽，一个再懒的人不管睡前多晚也愿...</td>\n",
       "    </tr>\n",
       "    <tr>\n",
       "      <th>1</th>\n",
       "      <td>CS14棒棒哒</td>\n",
       "    </tr>\n",
       "    <tr>\n",
       "      <th>2</th>\n",
       "      <td>宝贝真是惊艳到我了，刚用两天感觉还不错，正在适应中，给跟男朋友买了个情侣款，这款基础款不错，...</td>\n",
       "    </tr>\n",
       "    <tr>\n",
       "      <th>3</th>\n",
       "      <td>用了三天，感觉很不错，客服cs5服务热情，东西好，客服也好，祝生意兴隆</td>\n",
       "    </tr>\n",
       "    <tr>\n",
       "      <th>4</th>\n",
       "      <td>飞利浦品牌值得信赖，收到货迫不及待的试了下，牙刷毛软硬适中，机器噪音小，刷的很干净，口气好清...</td>\n",
       "    </tr>\n",
       "  </tbody>\n",
       "</table>\n",
       "</div>"
      ],
      "text/plain": [
       "                                             content\n",
       "0  想要紫色的，可惜前阵子买的时候没有了，对懒人来说使用起来很酸爽，一个再懒的人不管睡前多晚也愿...\n",
       "1                                            CS14棒棒哒\n",
       "2  宝贝真是惊艳到我了，刚用两天感觉还不错，正在适应中，给跟男朋友买了个情侣款，这款基础款不错，...\n",
       "3                用了三天，感觉很不错，客服cs5服务热情，东西好，客服也好，祝生意兴隆\n",
       "4  飞利浦品牌值得信赖，收到货迫不及待的试了下，牙刷毛软硬适中，机器噪音小，刷的很干净，口气好清..."
      ]
     },
     "execution_count": 2,
     "metadata": {},
     "output_type": "execute_result"
    }
   ],
   "source": [
    "pinglun = pd.read_csv('hx6730.csv')\n",
    "pinglun = pinglun[[pinglun.columns[0]]]\n",
    "pinglun.columns=['content']\n",
    "\n",
    "nasme = 'hx6730'\n",
    "pinglun.head(5)"
   ]
  },
  {
   "cell_type": "markdown",
   "metadata": {},
   "source": [
    "# 2词包数据格式"
   ]
  },
  {
   "cell_type": "code",
   "execution_count": 3,
   "metadata": {},
   "outputs": [
    {
     "data": {
      "text/html": [
       "<div>\n",
       "<style scoped>\n",
       "    .dataframe tbody tr th:only-of-type {\n",
       "        vertical-align: middle;\n",
       "    }\n",
       "\n",
       "    .dataframe tbody tr th {\n",
       "        vertical-align: top;\n",
       "    }\n",
       "\n",
       "    .dataframe thead th {\n",
       "        text-align: right;\n",
       "    }\n",
       "</style>\n",
       "<table border=\"1\" class=\"dataframe\">\n",
       "  <thead>\n",
       "    <tr style=\"text-align: right;\">\n",
       "      <th></th>\n",
       "      <th>正负</th>\n",
       "      <th>一级索引</th>\n",
       "      <th>二级索引</th>\n",
       "      <th>关键词</th>\n",
       "    </tr>\n",
       "  </thead>\n",
       "  <tbody>\n",
       "    <tr>\n",
       "      <th>0</th>\n",
       "      <td>正</td>\n",
       "      <td>产品</td>\n",
       "      <td>外形颜色</td>\n",
       "      <td>紫色</td>\n",
       "    </tr>\n",
       "    <tr>\n",
       "      <th>1</th>\n",
       "      <td>正</td>\n",
       "      <td>产品</td>\n",
       "      <td>外形颜色</td>\n",
       "      <td>白色</td>\n",
       "    </tr>\n",
       "    <tr>\n",
       "      <th>2</th>\n",
       "      <td>正</td>\n",
       "      <td>产品</td>\n",
       "      <td>外形颜色</td>\n",
       "      <td>粉色</td>\n",
       "    </tr>\n",
       "    <tr>\n",
       "      <th>3</th>\n",
       "      <td>正</td>\n",
       "      <td>产品</td>\n",
       "      <td>外形颜色</td>\n",
       "      <td>黑色</td>\n",
       "    </tr>\n",
       "    <tr>\n",
       "      <th>4</th>\n",
       "      <td>正</td>\n",
       "      <td>产品</td>\n",
       "      <td>外形颜色</td>\n",
       "      <td>金</td>\n",
       "    </tr>\n",
       "  </tbody>\n",
       "</table>\n",
       "</div>"
      ],
      "text/plain": [
       "  正负 一级索引  二级索引 关键词\n",
       "0  正   产品  外形颜色  紫色\n",
       "1  正   产品  外形颜色  白色\n",
       "2  正   产品  外形颜色  粉色\n",
       "3  正   产品  外形颜色  黑色\n",
       "4  正   产品  外形颜色   金"
      ]
     },
     "execution_count": 3,
     "metadata": {},
     "output_type": "execute_result"
    }
   ],
   "source": [
    "cibao = pd.read_excel('feilipugjc.xlsx')\n",
    "cibao.head(5)"
   ]
  },
  {
   "cell_type": "markdown",
   "metadata": {},
   "source": [
    "# 3。1 词包检索"
   ]
  },
  {
   "cell_type": "code",
   "execution_count": 4,
   "metadata": {
    "scrolled": false
   },
   "outputs": [
    {
     "data": {
      "text/html": [
       "<div>\n",
       "<style scoped>\n",
       "    .dataframe tbody tr th:only-of-type {\n",
       "        vertical-align: middle;\n",
       "    }\n",
       "\n",
       "    .dataframe tbody tr th {\n",
       "        vertical-align: top;\n",
       "    }\n",
       "\n",
       "    .dataframe thead th {\n",
       "        text-align: right;\n",
       "    }\n",
       "</style>\n",
       "<table border=\"1\" class=\"dataframe\">\n",
       "  <thead>\n",
       "    <tr style=\"text-align: right;\">\n",
       "      <th></th>\n",
       "      <th>content</th>\n",
       "      <th>紫色</th>\n",
       "      <th>白色</th>\n",
       "      <th>粉色</th>\n",
       "      <th>黑色</th>\n",
       "      <th>金</th>\n",
       "      <th>好看</th>\n",
       "      <th>颜值高</th>\n",
       "      <th>清新</th>\n",
       "      <th>美观</th>\n",
       "      <th>...</th>\n",
       "      <th>不实惠</th>\n",
       "      <th>不好用</th>\n",
       "      <th>不方便</th>\n",
       "      <th>流血</th>\n",
       "      <th>出血</th>\n",
       "      <th>不满意</th>\n",
       "      <th>喷泡沫</th>\n",
       "      <th>效果不好</th>\n",
       "      <th>慢</th>\n",
       "      <th>座子大一点</th>\n",
       "    </tr>\n",
       "  </thead>\n",
       "  <tbody>\n",
       "    <tr>\n",
       "      <th>0</th>\n",
       "      <td>想要紫色的，可惜前阵子买的时候没有了，对懒人来说使用起来很酸爽，一个再懒的人不管睡前多晚也愿...</td>\n",
       "      <td>1</td>\n",
       "      <td>0</td>\n",
       "      <td>0</td>\n",
       "      <td>0</td>\n",
       "      <td>0</td>\n",
       "      <td>0</td>\n",
       "      <td>0</td>\n",
       "      <td>0</td>\n",
       "      <td>0</td>\n",
       "      <td>...</td>\n",
       "      <td>0</td>\n",
       "      <td>0</td>\n",
       "      <td>0</td>\n",
       "      <td>0</td>\n",
       "      <td>0</td>\n",
       "      <td>0</td>\n",
       "      <td>0</td>\n",
       "      <td>0</td>\n",
       "      <td>0</td>\n",
       "      <td>0</td>\n",
       "    </tr>\n",
       "    <tr>\n",
       "      <th>1</th>\n",
       "      <td>CS14棒棒哒</td>\n",
       "      <td>0</td>\n",
       "      <td>0</td>\n",
       "      <td>0</td>\n",
       "      <td>0</td>\n",
       "      <td>0</td>\n",
       "      <td>0</td>\n",
       "      <td>0</td>\n",
       "      <td>0</td>\n",
       "      <td>0</td>\n",
       "      <td>...</td>\n",
       "      <td>0</td>\n",
       "      <td>0</td>\n",
       "      <td>0</td>\n",
       "      <td>0</td>\n",
       "      <td>0</td>\n",
       "      <td>0</td>\n",
       "      <td>0</td>\n",
       "      <td>0</td>\n",
       "      <td>0</td>\n",
       "      <td>0</td>\n",
       "    </tr>\n",
       "    <tr>\n",
       "      <th>2</th>\n",
       "      <td>宝贝真是惊艳到我了，刚用两天感觉还不错，正在适应中，给跟男朋友买了个情侣款，这款基础款不错，...</td>\n",
       "      <td>0</td>\n",
       "      <td>0</td>\n",
       "      <td>0</td>\n",
       "      <td>0</td>\n",
       "      <td>0</td>\n",
       "      <td>0</td>\n",
       "      <td>0</td>\n",
       "      <td>0</td>\n",
       "      <td>0</td>\n",
       "      <td>...</td>\n",
       "      <td>0</td>\n",
       "      <td>0</td>\n",
       "      <td>0</td>\n",
       "      <td>0</td>\n",
       "      <td>0</td>\n",
       "      <td>0</td>\n",
       "      <td>0</td>\n",
       "      <td>0</td>\n",
       "      <td>0</td>\n",
       "      <td>0</td>\n",
       "    </tr>\n",
       "    <tr>\n",
       "      <th>3</th>\n",
       "      <td>用了三天，感觉很不错，客服cs5服务热情，东西好，客服也好，祝生意兴隆</td>\n",
       "      <td>0</td>\n",
       "      <td>0</td>\n",
       "      <td>0</td>\n",
       "      <td>0</td>\n",
       "      <td>0</td>\n",
       "      <td>0</td>\n",
       "      <td>0</td>\n",
       "      <td>0</td>\n",
       "      <td>0</td>\n",
       "      <td>...</td>\n",
       "      <td>0</td>\n",
       "      <td>0</td>\n",
       "      <td>0</td>\n",
       "      <td>0</td>\n",
       "      <td>0</td>\n",
       "      <td>0</td>\n",
       "      <td>0</td>\n",
       "      <td>0</td>\n",
       "      <td>0</td>\n",
       "      <td>0</td>\n",
       "    </tr>\n",
       "    <tr>\n",
       "      <th>4</th>\n",
       "      <td>飞利浦品牌值得信赖，收到货迫不及待的试了下，牙刷毛软硬适中，机器噪音小，刷的很干净，口气好清...</td>\n",
       "      <td>0</td>\n",
       "      <td>0</td>\n",
       "      <td>0</td>\n",
       "      <td>0</td>\n",
       "      <td>0</td>\n",
       "      <td>0</td>\n",
       "      <td>0</td>\n",
       "      <td>1</td>\n",
       "      <td>0</td>\n",
       "      <td>...</td>\n",
       "      <td>0</td>\n",
       "      <td>0</td>\n",
       "      <td>0</td>\n",
       "      <td>0</td>\n",
       "      <td>0</td>\n",
       "      <td>0</td>\n",
       "      <td>0</td>\n",
       "      <td>0</td>\n",
       "      <td>0</td>\n",
       "      <td>0</td>\n",
       "    </tr>\n",
       "  </tbody>\n",
       "</table>\n",
       "<p>5 rows × 152 columns</p>\n",
       "</div>"
      ],
      "text/plain": [
       "                                             content  紫色  白色  粉色  黑色  金  好看  \\\n",
       "0  想要紫色的，可惜前阵子买的时候没有了，对懒人来说使用起来很酸爽，一个再懒的人不管睡前多晚也愿...   1   0   0   0  0   0   \n",
       "1                                            CS14棒棒哒   0   0   0   0  0   0   \n",
       "2  宝贝真是惊艳到我了，刚用两天感觉还不错，正在适应中，给跟男朋友买了个情侣款，这款基础款不错，...   0   0   0   0  0   0   \n",
       "3                用了三天，感觉很不错，客服cs5服务热情，东西好，客服也好，祝生意兴隆   0   0   0   0  0   0   \n",
       "4  飞利浦品牌值得信赖，收到货迫不及待的试了下，牙刷毛软硬适中，机器噪音小，刷的很干净，口气好清...   0   0   0   0  0   0   \n",
       "\n",
       "   颜值高  清新  美观  ...    不实惠  不好用  不方便  流血  出血  不满意  喷泡沫  效果不好  慢  座子大一点  \n",
       "0    0   0   0  ...      0    0    0   0   0    0    0     0  0      0  \n",
       "1    0   0   0  ...      0    0    0   0   0    0    0     0  0      0  \n",
       "2    0   0   0  ...      0    0    0   0   0    0    0     0  0      0  \n",
       "3    0   0   0  ...      0    0    0   0   0    0    0     0  0      0  \n",
       "4    0   1   0  ...      0    0    0   0   0    0    0     0  0      0  \n",
       "\n",
       "[5 rows x 152 columns]"
      ]
     },
     "execution_count": 4,
     "metadata": {},
     "output_type": "execute_result"
    }
   ],
   "source": [
    "df = pinglun.copy()\n",
    "cibao.关键词 = cibao.关键词.map(lambda x:str(x))\n",
    "df.content = df.content.astype(str)\n",
    "for i in cibao.关键词:\n",
    "    #print(i)\n",
    "    df = keyword_columns(df,i)\n",
    "df.head(5)"
   ]
  },
  {
   "cell_type": "markdown",
   "metadata": {},
   "source": [
    "# 3。2 词频统计"
   ]
  },
  {
   "cell_type": "code",
   "execution_count": 5,
   "metadata": {
    "collapsed": true
   },
   "outputs": [],
   "source": [
    "cdf = df.sum(axis=0)"
   ]
  },
  {
   "cell_type": "markdown",
   "metadata": {},
   "source": [
    "# 3。3 结果展示"
   ]
  },
  {
   "cell_type": "code",
   "execution_count": 6,
   "metadata": {},
   "outputs": [
    {
     "data": {
      "text/plain": [
       "Index(['正负', '一级索引', '二级索引', '关键词'], dtype='object')"
      ]
     },
     "execution_count": 6,
     "metadata": {},
     "output_type": "execute_result"
    }
   ],
   "source": [
    "cibao.columns"
   ]
  },
  {
   "cell_type": "code",
   "execution_count": 7,
   "metadata": {},
   "outputs": [
    {
     "data": {
      "text/html": [
       "<div>\n",
       "<style scoped>\n",
       "    .dataframe tbody tr th:only-of-type {\n",
       "        vertical-align: middle;\n",
       "    }\n",
       "\n",
       "    .dataframe tbody tr th {\n",
       "        vertical-align: top;\n",
       "    }\n",
       "\n",
       "    .dataframe thead th {\n",
       "        text-align: right;\n",
       "    }\n",
       "</style>\n",
       "<table border=\"1\" class=\"dataframe\">\n",
       "  <thead>\n",
       "    <tr style=\"text-align: right;\">\n",
       "      <th></th>\n",
       "      <th></th>\n",
       "      <th></th>\n",
       "      <th>频数</th>\n",
       "      <th>占比</th>\n",
       "    </tr>\n",
       "    <tr>\n",
       "      <th>正负</th>\n",
       "      <th>一级索引</th>\n",
       "      <th>二级索引</th>\n",
       "      <th></th>\n",
       "      <th></th>\n",
       "    </tr>\n",
       "  </thead>\n",
       "  <tbody>\n",
       "    <tr>\n",
       "      <th rowspan=\"22\" valign=\"top\">正</th>\n",
       "      <th rowspan=\"11\" valign=\"top\">产品</th>\n",
       "      <th>功能</th>\n",
       "      <td>0</td>\n",
       "      <td>0.0%</td>\n",
       "    </tr>\n",
       "    <tr>\n",
       "      <th>噪音</th>\n",
       "      <td>96</td>\n",
       "      <td>1.37%</td>\n",
       "    </tr>\n",
       "    <tr>\n",
       "      <th>外形颜色</th>\n",
       "      <td>184</td>\n",
       "      <td>2.63%</td>\n",
       "    </tr>\n",
       "    <tr>\n",
       "      <th>敏感</th>\n",
       "      <td>38</td>\n",
       "      <td>0.54%</td>\n",
       "    </tr>\n",
       "    <tr>\n",
       "      <th>材质</th>\n",
       "      <td>11</td>\n",
       "      <td>0.15%</td>\n",
       "    </tr>\n",
       "    <tr>\n",
       "      <th>清洁能力</th>\n",
       "      <td>63</td>\n",
       "      <td>0.90%</td>\n",
       "    </tr>\n",
       "    <tr>\n",
       "      <th>电量</th>\n",
       "      <td>18</td>\n",
       "      <td>0.25%</td>\n",
       "    </tr>\n",
       "    <tr>\n",
       "      <th>美白</th>\n",
       "      <td>53</td>\n",
       "      <td>0.75%</td>\n",
       "    </tr>\n",
       "    <tr>\n",
       "      <th>质量</th>\n",
       "      <td>1291</td>\n",
       "      <td>18.5%</td>\n",
       "    </tr>\n",
       "    <tr>\n",
       "      <th>软硬</th>\n",
       "      <td>21</td>\n",
       "      <td>0.30%</td>\n",
       "    </tr>\n",
       "    <tr>\n",
       "      <th>震动</th>\n",
       "      <td>84</td>\n",
       "      <td>1.20%</td>\n",
       "    </tr>\n",
       "    <tr>\n",
       "      <th>价格</th>\n",
       "      <th>价格</th>\n",
       "      <td>300</td>\n",
       "      <td>4.30%</td>\n",
       "    </tr>\n",
       "    <tr>\n",
       "      <th rowspan=\"2\" valign=\"top\">使用感</th>\n",
       "      <th>使用感</th>\n",
       "      <td>1577</td>\n",
       "      <td>22.6%</td>\n",
       "    </tr>\n",
       "    <tr>\n",
       "      <th>充电</th>\n",
       "      <td>1363</td>\n",
       "      <td>19.5%</td>\n",
       "    </tr>\n",
       "    <tr>\n",
       "      <th rowspan=\"2\" valign=\"top\">口碑</th>\n",
       "      <th>品牌力</th>\n",
       "      <td>207</td>\n",
       "      <td>2.96%</td>\n",
       "    </tr>\n",
       "    <tr>\n",
       "      <th>推荐</th>\n",
       "      <td>175</td>\n",
       "      <td>2.50%</td>\n",
       "    </tr>\n",
       "    <tr>\n",
       "      <th rowspan=\"4\" valign=\"top\">场景</th>\n",
       "      <th>场景</th>\n",
       "      <td>50</td>\n",
       "      <td>0.71%</td>\n",
       "    </tr>\n",
       "    <tr>\n",
       "      <th>心情</th>\n",
       "      <td>427</td>\n",
       "      <td>6.12%</td>\n",
       "    </tr>\n",
       "    <tr>\n",
       "      <th>被送人群</th>\n",
       "      <td>260</td>\n",
       "      <td>3.72%</td>\n",
       "    </tr>\n",
       "    <tr>\n",
       "      <th>送礼</th>\n",
       "      <td>58</td>\n",
       "      <td>0.83%</td>\n",
       "    </tr>\n",
       "    <tr>\n",
       "      <th>服务</th>\n",
       "      <th>客服</th>\n",
       "      <td>15</td>\n",
       "      <td>0.21%</td>\n",
       "    </tr>\n",
       "    <tr>\n",
       "      <th>赠品</th>\n",
       "      <th>赠品</th>\n",
       "      <td>25</td>\n",
       "      <td>0.35%</td>\n",
       "    </tr>\n",
       "    <tr>\n",
       "      <th rowspan=\"11\" valign=\"top\">负</th>\n",
       "      <th rowspan=\"8\" valign=\"top\">产品</th>\n",
       "      <th>噪音</th>\n",
       "      <td>246</td>\n",
       "      <td>3.52%</td>\n",
       "    </tr>\n",
       "    <tr>\n",
       "      <th>材质</th>\n",
       "      <td>20</td>\n",
       "      <td>0.28%</td>\n",
       "    </tr>\n",
       "    <tr>\n",
       "      <th>清洁能力</th>\n",
       "      <td>2</td>\n",
       "      <td>0.02%</td>\n",
       "    </tr>\n",
       "    <tr>\n",
       "      <th>电量</th>\n",
       "      <td>2</td>\n",
       "      <td>0.02%</td>\n",
       "    </tr>\n",
       "    <tr>\n",
       "      <th>美白</th>\n",
       "      <td>0</td>\n",
       "      <td>0.0%</td>\n",
       "    </tr>\n",
       "    <tr>\n",
       "      <th>质量</th>\n",
       "      <td>25</td>\n",
       "      <td>0.35%</td>\n",
       "    </tr>\n",
       "    <tr>\n",
       "      <th>软硬</th>\n",
       "      <td>10</td>\n",
       "      <td>0.14%</td>\n",
       "    </tr>\n",
       "    <tr>\n",
       "      <th>震动</th>\n",
       "      <td>256</td>\n",
       "      <td>3.67%</td>\n",
       "    </tr>\n",
       "    <tr>\n",
       "      <th>价格</th>\n",
       "      <th>价格</th>\n",
       "      <td>1</td>\n",
       "      <td>0.01%</td>\n",
       "    </tr>\n",
       "    <tr>\n",
       "      <th rowspan=\"2\" valign=\"top\">使用感</th>\n",
       "      <th>使用感</th>\n",
       "      <td>51</td>\n",
       "      <td>0.73%</td>\n",
       "    </tr>\n",
       "    <tr>\n",
       "      <th>充电</th>\n",
       "      <td>46</td>\n",
       "      <td>0.65%</td>\n",
       "    </tr>\n",
       "  </tbody>\n",
       "</table>\n",
       "</div>"
      ],
      "text/plain": [
       "                频数     占比\n",
       "正负 一级索引 二级索引             \n",
       "正  产品   功能       0   0.0%\n",
       "        噪音      96  1.37%\n",
       "        外形颜色   184  2.63%\n",
       "        敏感      38  0.54%\n",
       "        材质      11  0.15%\n",
       "        清洁能力    63  0.90%\n",
       "        电量      18  0.25%\n",
       "        美白      53  0.75%\n",
       "        质量    1291  18.5%\n",
       "        软硬      21  0.30%\n",
       "        震动      84  1.20%\n",
       "   价格   价格     300  4.30%\n",
       "   使用感  使用感   1577  22.6%\n",
       "        充电    1363  19.5%\n",
       "   口碑   品牌力    207  2.96%\n",
       "        推荐     175  2.50%\n",
       "   场景   场景      50  0.71%\n",
       "        心情     427  6.12%\n",
       "        被送人群   260  3.72%\n",
       "        送礼      58  0.83%\n",
       "   服务   客服      15  0.21%\n",
       "   赠品   赠品      25  0.35%\n",
       "负  产品   噪音     246  3.52%\n",
       "        材质      20  0.28%\n",
       "        清洁能力     2  0.02%\n",
       "        电量       2  0.02%\n",
       "        美白       0   0.0%\n",
       "        质量      25  0.35%\n",
       "        软硬      10  0.14%\n",
       "        震动     256  3.67%\n",
       "   价格   价格       1  0.01%\n",
       "   使用感  使用感     51  0.73%\n",
       "        充电      46  0.65%"
      ]
     },
     "execution_count": 7,
     "metadata": {},
     "output_type": "execute_result"
    }
   ],
   "source": [
    "cibao['频数'] = cibao['关键词'].map(cdf)\n",
    "res = cibao.groupby(['正负','一级索引','二级索引'])[['频数']].sum()\n",
    "res['占比'] = (res['频数']/res['频数'].sum()).map(lambda x: str(100*x)[:4] +'%')\n",
    "res.to_excel('chrish/'+nasme+'1.xlsx')\n",
    "res"
   ]
  },
  {
   "cell_type": "markdown",
   "metadata": {},
   "source": [
    "# 3。4 索引展开"
   ]
  },
  {
   "cell_type": "code",
   "execution_count": 8,
   "metadata": {
    "collapsed": true,
    "scrolled": false
   },
   "outputs": [],
   "source": [
    "cibao['频数'] = cibao['关键词'].map(cdf)\n",
    "podf = cibao.groupby(['正负','一级索引','二级索引','关键词'])[['频数']].sum()\n",
    "podf.to_excel('chrish/'+nasme+'2.xlsx')"
   ]
  },
  {
   "cell_type": "code",
   "execution_count": null,
   "metadata": {
    "collapsed": true
   },
   "outputs": [],
   "source": []
  },
  {
   "cell_type": "code",
   "execution_count": null,
   "metadata": {
    "collapsed": true
   },
   "outputs": [],
   "source": []
  },
  {
   "cell_type": "code",
   "execution_count": null,
   "metadata": {
    "collapsed": true
   },
   "outputs": [],
   "source": []
  },
  {
   "cell_type": "code",
   "execution_count": 9,
   "metadata": {
    "collapsed": true
   },
   "outputs": [],
   "source": [
    "import pyperclip"
   ]
  },
  {
   "cell_type": "code",
   "execution_count": 12,
   "metadata": {
    "collapsed": true
   },
   "outputs": [],
   "source": [
    "import re"
   ]
  },
  {
   "cell_type": "code",
   "execution_count": 133,
   "metadata": {
    "collapsed": true
   },
   "outputs": [],
   "source": [
    "import pyautogui"
   ]
  },
  {
   "cell_type": "code",
   "execution_count": 154,
   "metadata": {
    "collapsed": true
   },
   "outputs": [],
   "source": [
    "import time"
   ]
  },
  {
   "cell_type": "code",
   "execution_count": 135,
   "metadata": {
    "collapsed": true
   },
   "outputs": [],
   "source": [
    "pyautogui.PAUSE = 1"
   ]
  },
  {
   "cell_type": "code",
   "execution_count": 139,
   "metadata": {
    "collapsed": true
   },
   "outputs": [],
   "source": [
    "def clickk(atuple):\n",
    "    pyautogui.moveTo(atuple,duration=0.5,pause=0.5)\n",
    "    pyautogui.click(pause=0.5)"
   ]
  },
  {
   "cell_type": "code",
   "execution_count": 148,
   "metadata": {
    "collapsed": true
   },
   "outputs": [],
   "source": [
    "diyichuangkou = (146,9)\n",
    "xiala1 = (1910,268)\n",
    "xiala2 = (1910,695)\n",
    "blankk = (300,400)"
   ]
  },
  {
   "cell_type": "code",
   "execution_count": 158,
   "metadata": {},
   "outputs": [
    {
     "ename": "KeyboardInterrupt",
     "evalue": "",
     "output_type": "error",
     "traceback": [
      "\u001b[1;31m---------------------------------------------------------------------------\u001b[0m",
      "\u001b[1;31mKeyboardInterrupt\u001b[0m                         Traceback (most recent call last)",
      "\u001b[1;32m<ipython-input-158-4167f8a9ab9d>\u001b[0m in \u001b[0;36m<module>\u001b[1;34m()\u001b[0m\n\u001b[0;32m      5\u001b[0m     \u001b[0mclickk\u001b[0m\u001b[1;33m(\u001b[0m\u001b[0mxiala1\u001b[0m\u001b[1;33m)\u001b[0m\u001b[1;33m\u001b[0m\u001b[0m\n\u001b[0;32m      6\u001b[0m     \u001b[0mpyautogui\u001b[0m\u001b[1;33m.\u001b[0m\u001b[0mdragTo\u001b[0m\u001b[1;33m(\u001b[0m\u001b[0mxiala2\u001b[0m\u001b[1;33m,\u001b[0m\u001b[0mduration\u001b[0m\u001b[1;33m=\u001b[0m\u001b[1;36m1\u001b[0m\u001b[1;33m)\u001b[0m\u001b[1;33m\u001b[0m\u001b[0m\n\u001b[1;32m----> 7\u001b[1;33m     \u001b[0mxiayiye\u001b[0m \u001b[1;33m=\u001b[0m \u001b[0mpyautogui\u001b[0m\u001b[1;33m.\u001b[0m\u001b[0mlocateCenterOnScreen\u001b[0m\u001b[1;33m(\u001b[0m\u001b[1;34m'xiayiye.png'\u001b[0m\u001b[1;33m)\u001b[0m\u001b[1;33m\u001b[0m\u001b[0m\n\u001b[0m\u001b[0;32m      8\u001b[0m     \u001b[1;32massert\u001b[0m \u001b[0misinstance\u001b[0m\u001b[1;33m(\u001b[0m\u001b[0mxiayiye\u001b[0m\u001b[1;33m,\u001b[0m\u001b[0mtuple\u001b[0m\u001b[1;33m)\u001b[0m\u001b[1;33m\u001b[0m\u001b[0m\n\u001b[0;32m      9\u001b[0m \u001b[1;33m\u001b[0m\u001b[0m\n",
      "\u001b[1;32mD:\\Miniconda3\\lib\\site-packages\\pyscreeze\\__init__.py\u001b[0m in \u001b[0;36mlocateCenterOnScreen\u001b[1;34m(image, **kwargs)\u001b[0m\n\u001b[0;32m    293\u001b[0m \u001b[1;33m\u001b[0m\u001b[0m\n\u001b[0;32m    294\u001b[0m \u001b[1;32mdef\u001b[0m \u001b[0mlocateCenterOnScreen\u001b[0m\u001b[1;33m(\u001b[0m\u001b[0mimage\u001b[0m\u001b[1;33m,\u001b[0m \u001b[1;33m**\u001b[0m\u001b[0mkwargs\u001b[0m\u001b[1;33m)\u001b[0m\u001b[1;33m:\u001b[0m\u001b[1;33m\u001b[0m\u001b[0m\n\u001b[1;32m--> 295\u001b[1;33m     \u001b[0mcoords\u001b[0m \u001b[1;33m=\u001b[0m \u001b[0mlocateOnScreen\u001b[0m\u001b[1;33m(\u001b[0m\u001b[0mimage\u001b[0m\u001b[1;33m,\u001b[0m \u001b[1;33m**\u001b[0m\u001b[0mkwargs\u001b[0m\u001b[1;33m)\u001b[0m\u001b[1;33m\u001b[0m\u001b[0m\n\u001b[0m\u001b[0;32m    296\u001b[0m     \u001b[1;32mif\u001b[0m \u001b[0mcoords\u001b[0m \u001b[1;32mis\u001b[0m \u001b[1;32mNone\u001b[0m\u001b[1;33m:\u001b[0m\u001b[1;33m\u001b[0m\u001b[0m\n\u001b[0;32m    297\u001b[0m         \u001b[1;32mreturn\u001b[0m \u001b[1;32mNone\u001b[0m\u001b[1;33m\u001b[0m\u001b[0m\n",
      "\u001b[1;32mD:\\Miniconda3\\lib\\site-packages\\pyscreeze\\__init__.py\u001b[0m in \u001b[0;36mlocateOnScreen\u001b[1;34m(image, minSearchTime, **kwargs)\u001b[0m\n\u001b[0;32m    264\u001b[0m         \u001b[1;32mtry\u001b[0m\u001b[1;33m:\u001b[0m\u001b[1;33m\u001b[0m\u001b[0m\n\u001b[0;32m    265\u001b[0m             \u001b[0mscreenshotIm\u001b[0m \u001b[1;33m=\u001b[0m \u001b[0mscreenshot\u001b[0m\u001b[1;33m(\u001b[0m\u001b[0mregion\u001b[0m\u001b[1;33m=\u001b[0m\u001b[1;32mNone\u001b[0m\u001b[1;33m)\u001b[0m \u001b[1;31m# the locateAll() function must handle cropping to return accurate coordinates, so don't pass a region here.\u001b[0m\u001b[1;33m\u001b[0m\u001b[0m\n\u001b[1;32m--> 266\u001b[1;33m             \u001b[0mretVal\u001b[0m \u001b[1;33m=\u001b[0m \u001b[0mlocate\u001b[0m\u001b[1;33m(\u001b[0m\u001b[0mimage\u001b[0m\u001b[1;33m,\u001b[0m \u001b[0mscreenshotIm\u001b[0m\u001b[1;33m,\u001b[0m \u001b[1;33m**\u001b[0m\u001b[0mkwargs\u001b[0m\u001b[1;33m)\u001b[0m\u001b[1;33m\u001b[0m\u001b[0m\n\u001b[0m\u001b[0;32m    267\u001b[0m             \u001b[1;32mtry\u001b[0m\u001b[1;33m:\u001b[0m\u001b[1;33m\u001b[0m\u001b[0m\n\u001b[0;32m    268\u001b[0m                 \u001b[0mscreenshotIm\u001b[0m\u001b[1;33m.\u001b[0m\u001b[0mfp\u001b[0m\u001b[1;33m.\u001b[0m\u001b[0mclose\u001b[0m\u001b[1;33m(\u001b[0m\u001b[1;33m)\u001b[0m\u001b[1;33m\u001b[0m\u001b[0m\n",
      "\u001b[1;32mD:\\Miniconda3\\lib\\site-packages\\pyscreeze\\__init__.py\u001b[0m in \u001b[0;36mlocate\u001b[1;34m(needleImage, haystackImage, **kwargs)\u001b[0m\n\u001b[0;32m    248\u001b[0m     \u001b[1;31m# Note: The gymnastics in this function is because we want to make sure to exhaust the iterator so that the needle and haystack files are closed in locateAll.\u001b[0m\u001b[1;33m\u001b[0m\u001b[1;33m\u001b[0m\u001b[0m\n\u001b[0;32m    249\u001b[0m     \u001b[0mkwargs\u001b[0m\u001b[1;33m[\u001b[0m\u001b[1;34m'limit'\u001b[0m\u001b[1;33m]\u001b[0m \u001b[1;33m=\u001b[0m \u001b[1;36m1\u001b[0m\u001b[1;33m\u001b[0m\u001b[0m\n\u001b[1;32m--> 250\u001b[1;33m     \u001b[0mpoints\u001b[0m \u001b[1;33m=\u001b[0m \u001b[0mtuple\u001b[0m\u001b[1;33m(\u001b[0m\u001b[0mlocateAll\u001b[0m\u001b[1;33m(\u001b[0m\u001b[0mneedleImage\u001b[0m\u001b[1;33m,\u001b[0m \u001b[0mhaystackImage\u001b[0m\u001b[1;33m,\u001b[0m \u001b[1;33m**\u001b[0m\u001b[0mkwargs\u001b[0m\u001b[1;33m)\u001b[0m\u001b[1;33m)\u001b[0m\u001b[1;33m\u001b[0m\u001b[0m\n\u001b[0m\u001b[0;32m    251\u001b[0m     \u001b[1;32mif\u001b[0m \u001b[0mlen\u001b[0m\u001b[1;33m(\u001b[0m\u001b[0mpoints\u001b[0m\u001b[1;33m)\u001b[0m \u001b[1;33m>\u001b[0m \u001b[1;36m0\u001b[0m\u001b[1;33m:\u001b[0m\u001b[1;33m\u001b[0m\u001b[0m\n\u001b[0;32m    252\u001b[0m         \u001b[1;32mreturn\u001b[0m \u001b[0mpoints\u001b[0m\u001b[1;33m[\u001b[0m\u001b[1;36m0\u001b[0m\u001b[1;33m]\u001b[0m\u001b[1;33m\u001b[0m\u001b[0m\n",
      "\u001b[1;32mD:\\Miniconda3\\lib\\site-packages\\pyscreeze\\__init__.py\u001b[0m in \u001b[0;36m_locateAll_python\u001b[1;34m(needleImage, haystackImage, grayscale, limit, region, step)\u001b[0m\n\u001b[0;32m    219\u001b[0m             \u001b[1;32mfor\u001b[0m \u001b[0msearchy\u001b[0m \u001b[1;32min\u001b[0m \u001b[0mrange\u001b[0m\u001b[1;33m(\u001b[0m\u001b[1;36m1\u001b[0m\u001b[1;33m,\u001b[0m \u001b[0mneedleHeight\u001b[0m\u001b[1;33m,\u001b[0m \u001b[0mstep\u001b[0m\u001b[1;33m)\u001b[0m\u001b[1;33m:\u001b[0m\u001b[1;33m\u001b[0m\u001b[0m\n\u001b[0;32m    220\u001b[0m                 \u001b[0mhaystackStart\u001b[0m \u001b[1;33m=\u001b[0m \u001b[1;33m(\u001b[0m\u001b[0msearchy\u001b[0m \u001b[1;33m+\u001b[0m \u001b[0my\u001b[0m\u001b[1;33m)\u001b[0m \u001b[1;33m*\u001b[0m \u001b[0mhaystackWidth\u001b[0m \u001b[1;33m+\u001b[0m \u001b[0mmatchx\u001b[0m\u001b[1;33m\u001b[0m\u001b[0m\n\u001b[1;32m--> 221\u001b[1;33m                 \u001b[1;32mif\u001b[0m \u001b[0mneedleImageData\u001b[0m\u001b[1;33m[\u001b[0m\u001b[0msearchy\u001b[0m \u001b[1;33m*\u001b[0m \u001b[0mneedleWidth\u001b[0m\u001b[1;33m:\u001b[0m\u001b[1;33m(\u001b[0m\u001b[0msearchy\u001b[0m\u001b[1;33m+\u001b[0m\u001b[1;36m1\u001b[0m\u001b[1;33m)\u001b[0m \u001b[1;33m*\u001b[0m \u001b[0mneedleWidth\u001b[0m\u001b[1;33m]\u001b[0m \u001b[1;33m!=\u001b[0m \u001b[0mhaystackImageData\u001b[0m\u001b[1;33m[\u001b[0m\u001b[0mhaystackStart\u001b[0m\u001b[1;33m:\u001b[0m\u001b[0mhaystackStart\u001b[0m \u001b[1;33m+\u001b[0m \u001b[0mneedleWidth\u001b[0m\u001b[1;33m]\u001b[0m\u001b[1;33m:\u001b[0m\u001b[1;33m\u001b[0m\u001b[0m\n\u001b[0m\u001b[0;32m    222\u001b[0m                     \u001b[0mfoundMatch\u001b[0m \u001b[1;33m=\u001b[0m \u001b[1;32mFalse\u001b[0m\u001b[1;33m\u001b[0m\u001b[0m\n\u001b[0;32m    223\u001b[0m                     \u001b[1;32mbreak\u001b[0m\u001b[1;33m\u001b[0m\u001b[0m\n",
      "\u001b[1;31mKeyboardInterrupt\u001b[0m: "
     ]
    }
   ],
   "source": [
    "df = pd.Series()\n",
    "\n",
    "clickk(diyichuangkou)\n",
    "for i in range(100):\n",
    "    clickk(xiala1)\n",
    "    pyautogui.dragTo(xiala2,duration=1)\n",
    "    xiayiye = pyautogui.locateCenterOnScreen('xiayiye.png')\n",
    "    assert isinstance(xiayiye,tuple)\n",
    "    \n",
    "    clickk(blankk)\n",
    "    pyautogui.hotkey('ctrl','a')\n",
    "    pyautogui.hotkey('ctrl','c')\n",
    "    zhengwen = pyperclip.paste()\n",
    "    pinglun = pd.Series(re.findall(r'\\*.{10,10000}?\\*',zhengwen,flags=re.DOTALL)[1:]) \\\n",
    "    .str.replace(r'超级会员\\r\\n\\r\\n|初次评价:\\r\\n.*?\\r\\n','').map(lambda x:re.findall(r'\\r\\n.*?\\r\\n',x)[0][2:-2]) \n",
    "    df = pd.concat([df,pinglun])\n",
    "    \n",
    "    clickk(xiayiye)\n",
    "    clickk(blankk)"
   ]
  },
  {
   "cell_type": "code",
   "execution_count": null,
   "metadata": {
    "collapsed": true
   },
   "outputs": [],
   "source": []
  }
 ],
 "metadata": {
  "kernelspec": {
   "display_name": "Python 3",
   "language": "python",
   "name": "python3"
  },
  "language_info": {
   "codemirror_mode": {
    "name": "ipython",
    "version": 3
   },
   "file_extension": ".py",
   "mimetype": "text/x-python",
   "name": "python",
   "nbconvert_exporter": "python",
   "pygments_lexer": "ipython3",
   "version": "3.6.3"
  }
 },
 "nbformat": 4,
 "nbformat_minor": 2
}
