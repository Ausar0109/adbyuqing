{
 "cells": [
  {
   "cell_type": "code",
   "execution_count": 1,
   "metadata": {},
   "outputs": [],
   "source": [
    "from yqcore import *\n",
    "import pandas as pd"
   ]
  },
  {
   "cell_type": "markdown",
   "metadata": {},
   "source": [
    "# 1. Import Ori-Data"
   ]
  },
  {
   "cell_type": "code",
   "execution_count": 2,
   "metadata": {},
   "outputs": [],
   "source": [
    "namew = '阿道夫.csv'"
   ]
  },
  {
   "cell_type": "code",
   "execution_count": 3,
   "metadata": {},
   "outputs": [
    {
     "data": {
      "text/html": [
       "<div>\n",
       "<style scoped>\n",
       "    .dataframe tbody tr th:only-of-type {\n",
       "        vertical-align: middle;\n",
       "    }\n",
       "\n",
       "    .dataframe tbody tr th {\n",
       "        vertical-align: top;\n",
       "    }\n",
       "\n",
       "    .dataframe thead th {\n",
       "        text-align: right;\n",
       "    }\n",
       "</style>\n",
       "<table border=\"1\" class=\"dataframe\">\n",
       "  <thead>\n",
       "    <tr style=\"text-align: right;\">\n",
       "      <th></th>\n",
       "      <th>content</th>\n",
       "    </tr>\n",
       "  </thead>\n",
       "  <tbody>\n",
       "    <tr>\n",
       "      <th>0</th>\n",
       "      <td>第二次买了 非常好 应该非常好洗车机回归方程骨灰盒功夫茶观后感非常不好花果茶v回家应该穿v回...</td>\n",
       "    </tr>\n",
       "    <tr>\n",
       "      <th>1</th>\n",
       "      <td>之前用的是小包装的，感觉超级好用，所以这次要去实习所以买了一瓶，每次用完感觉自己的头发香香的...</td>\n",
       "    </tr>\n",
       "    <tr>\n",
       "      <th>2</th>\n",
       "      <td>非常喜欢 推荐给朋友了 还会继续回购 是正品</td>\n",
       "    </tr>\n",
       "    <tr>\n",
       "      <th>3</th>\n",
       "      <td>挺大一瓶的 洗了一次 味道比我用的其他的牌子要好闻 不错</td>\n",
       "    </tr>\n",
       "    <tr>\n",
       "      <th>4</th>\n",
       "      <td>爱的味道，一辈子忘不了！！！！@宝宝 特别喜欢！很顺！！！</td>\n",
       "    </tr>\n",
       "  </tbody>\n",
       "</table>\n",
       "</div>"
      ],
      "text/plain": [
       "                                             content\n",
       "0  第二次买了 非常好 应该非常好洗车机回归方程骨灰盒功夫茶观后感非常不好花果茶v回家应该穿v回...\n",
       "1  之前用的是小包装的，感觉超级好用，所以这次要去实习所以买了一瓶，每次用完感觉自己的头发香香的...\n",
       "2                             非常喜欢 推荐给朋友了 还会继续回购 是正品\n",
       "3                       挺大一瓶的 洗了一次 味道比我用的其他的牌子要好闻 不错\n",
       "4                      爱的味道，一辈子忘不了！！！！@宝宝 特别喜欢！很顺！！！"
      ]
     },
     "execution_count": 3,
     "metadata": {},
     "output_type": "execute_result"
    }
   ],
   "source": [
    "pinglun = pd.read_csv(namew,encoding='gb18030',header=None)\n",
    "pinglun = pinglun[[pinglun.columns[0]]];pinglun.columns=['content'];pinglun.head(5)"
   ]
  },
  {
   "cell_type": "code",
   "execution_count": 4,
   "metadata": {},
   "outputs": [],
   "source": [
    "#pinglun = pd.read_excel('data/微博酸奶.xlsx',encoding='gb18030');pinglun.columns=['content'];pinglun.head(5)"
   ]
  },
  {
   "cell_type": "markdown",
   "metadata": {},
   "source": [
    "# 2. Import Key-words"
   ]
  },
  {
   "cell_type": "code",
   "execution_count": null,
   "metadata": {},
   "outputs": [
    {
     "data": {
      "text/html": [
       "<div>\n",
       "<style scoped>\n",
       "    .dataframe tbody tr th:only-of-type {\n",
       "        vertical-align: middle;\n",
       "    }\n",
       "\n",
       "    .dataframe tbody tr th {\n",
       "        vertical-align: top;\n",
       "    }\n",
       "\n",
       "    .dataframe thead th {\n",
       "        text-align: right;\n",
       "    }\n",
       "</style>\n",
       "<table border=\"1\" class=\"dataframe\">\n",
       "  <thead>\n",
       "    <tr style=\"text-align: right;\">\n",
       "      <th></th>\n",
       "      <th>emotion</th>\n",
       "      <th>review_type</th>\n",
       "      <th>review_subtype</th>\n",
       "      <th>关键词</th>\n",
       "    </tr>\n",
       "  </thead>\n",
       "  <tbody>\n",
       "    <tr>\n",
       "      <th>0</th>\n",
       "      <td>Positive</td>\n",
       "      <td>Promotion</td>\n",
       "      <td>Promotion</td>\n",
       "      <td>199-100</td>\n",
       "    </tr>\n",
       "    <tr>\n",
       "      <th>1</th>\n",
       "      <td>Positive</td>\n",
       "      <td>Promotion</td>\n",
       "      <td>Promotion</td>\n",
       "      <td>199-100-双十一-活动</td>\n",
       "    </tr>\n",
       "    <tr>\n",
       "      <th>2</th>\n",
       "      <td>Negative</td>\n",
       "      <td>Logistics</td>\n",
       "      <td>logistic service/快递(公司)服务</td>\n",
       "      <td>EMS</td>\n",
       "    </tr>\n",
       "    <tr>\n",
       "      <th>3</th>\n",
       "      <td>Positive</td>\n",
       "      <td>Logistics</td>\n",
       "      <td>logistic service/快递(公司)服务</td>\n",
       "      <td>EMS</td>\n",
       "    </tr>\n",
       "    <tr>\n",
       "      <th>4</th>\n",
       "      <td>Neuture</td>\n",
       "      <td>Logistics</td>\n",
       "      <td>logistic service/快递(公司)服务</td>\n",
       "      <td>EMS</td>\n",
       "    </tr>\n",
       "  </tbody>\n",
       "</table>\n",
       "</div>"
      ],
      "text/plain": [
       "    emotion review_type             review_subtype             关键词\n",
       "0  Positive   Promotion                  Promotion         199-100\n",
       "1  Positive   Promotion                  Promotion  199-100-双十一-活动\n",
       "2  Negative   Logistics  logistic service/快递(公司)服务             EMS\n",
       "3  Positive   Logistics  logistic service/快递(公司)服务             EMS\n",
       "4   Neuture   Logistics  logistic service/快递(公司)服务             EMS"
      ]
     },
     "execution_count": 5,
     "metadata": {},
     "output_type": "execute_result"
    }
   ],
   "source": [
    "cibao = pd.read_csv('hfs.csv',encoding='gb18030')\n",
    "cibao.head(5)"
   ]
  },
  {
   "cell_type": "markdown",
   "metadata": {},
   "source": [
    "# 3.1 Search Key-words"
   ]
  },
  {
   "cell_type": "code",
   "execution_count": null,
   "metadata": {
    "scrolled": false
   },
   "outputs": [],
   "source": [
    "df = pinglun.copy()\n",
    "cibao[cibao.columns[-1]] = cibao[cibao.columns[-1]].map(lambda x:str(x))\n",
    "df.content = df.content.astype(str)\n",
    "for i in cibao[cibao.columns[-1]]:\n",
    "    df = keyword_columns(df,i)\n",
    "df.head(5)"
   ]
  },
  {
   "cell_type": "markdown",
   "metadata": {},
   "source": [
    "# 3.2 Result"
   ]
  },
  {
   "cell_type": "code",
   "execution_count": null,
   "metadata": {},
   "outputs": [],
   "source": [
    "cdf = df.sum(axis=0)"
   ]
  },
  {
   "cell_type": "code",
   "execution_count": null,
   "metadata": {},
   "outputs": [],
   "source": [
    "cibao['频数'] = cibao.关键词.map(cdf)"
   ]
  },
  {
   "cell_type": "code",
   "execution_count": null,
   "metadata": {},
   "outputs": [],
   "source": [
    "res = cibao.groupby(list(cibao.columns[:3]))[['频数']].sum()\n",
    "res['占比'] = (res['频数']/res['频数'].sum()).map(lambda x: str(100*x)[:4] +'%')\n",
    "\n",
    "res.to_excel(namew[:-4]+'结果1.xlsx');res"
   ]
  },
  {
   "cell_type": "code",
   "execution_count": null,
   "metadata": {
    "scrolled": false
   },
   "outputs": [],
   "source": [
    "res = cibao.groupby(list(cibao.columns[:4]))[['频数']].sum()\n",
    "res['占比'] = (res['频数']/res['频数'].sum()).map(lambda x: str(100*x)[:4] +'%')\n",
    "\n",
    "res.to_excel(namew[:-4]+'结果2.xlsx');res"
   ]
  },
  {
   "cell_type": "markdown",
   "metadata": {
    "collapsed": true
   },
   "source": [
    "# 4 Cut words"
   ]
  },
  {
   "cell_type": "code",
   "execution_count": null,
   "metadata": {},
   "outputs": [],
   "source": [
    "import jieba.analyse"
   ]
  },
  {
   "cell_type": "code",
   "execution_count": null,
   "metadata": {},
   "outputs": [],
   "source": [
    "fenci = []\n",
    "for x in pinglun.content.map(jieba.analyse.extract_tags):\n",
    "    for y in x:\n",
    "        fenci.append(y)\n",
    "pd.Series(fenci).value_counts()[:20]"
   ]
  },
  {
   "cell_type": "code",
   "execution_count": null,
   "metadata": {},
   "outputs": [],
   "source": []
  }
 ],
 "metadata": {
  "kernelspec": {
   "display_name": "Python 3",
   "language": "python",
   "name": "python3"
  },
  "language_info": {
   "codemirror_mode": {
    "name": "ipython",
    "version": 3
   },
   "file_extension": ".py",
   "mimetype": "text/x-python",
   "name": "python",
   "nbconvert_exporter": "python",
   "pygments_lexer": "ipython3",
   "version": "3.6.6"
  }
 },
 "nbformat": 4,
 "nbformat_minor": 2
}
