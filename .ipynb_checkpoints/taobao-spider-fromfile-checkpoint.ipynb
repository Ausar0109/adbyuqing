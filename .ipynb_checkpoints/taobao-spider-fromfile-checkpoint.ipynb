{
 "cells": [
  {
   "cell_type": "code",
   "execution_count": 1,
   "metadata": {},
   "outputs": [],
   "source": [
    "import pyperclip,re,pyautogui,time\n",
    "import pandas as pd\n",
    "from random import choice,randint\n",
    "import jieba.analyse\n",
    "import time\n",
    "\n",
    "pyautogui.PAUSE = 0.102"
   ]
  },
  {
   "cell_type": "code",
   "execution_count": 2,
   "metadata": {},
   "outputs": [],
   "source": [
    "urllist = pd.read_csv('listt.csv',header=None)[0].to_list()"
   ]
  },
  {
   "cell_type": "code",
   "execution_count": 3,
   "metadata": {},
   "outputs": [],
   "source": [
    "diyichuangkou = (14,14)\n",
    "urlxy = (382,52)\n",
    "\n",
    "name1 = (820,298)\n",
    "name2 = (1325,298)\n",
    "\n",
    "xiayiye0 = (1262,510)\n",
    "xiayiye = (1262,550)\n",
    "\n",
    "leijipingjia = (685,95)"
   ]
  },
  {
   "cell_type": "code",
   "execution_count": 4,
   "metadata": {},
   "outputs": [],
   "source": [
    "def ppaste(astr):\n",
    "    pyperclip.copy(astr)\n",
    "    pyautogui.hotkey('ctrl', 'v')\n",
    "    \n",
    "def clickk(atuple):\n",
    "    pyautogui.moveTo(atuple,duration=0.17,tween=pyautogui.easeInQuad,pause=0.101)\n",
    "    pyautogui.click(pause=0.101)\n",
    "\n",
    "def find_nextpage():\n",
    "    pyautogui.hotkey('ctrl','f',pause=0.15)\n",
    "    pyautogui.press('enter',pause=0.15)\n",
    "    pyautogui.press('esc',pause=0.15)\n",
    "    clickk(diyichuangkou)\n",
    "\n",
    "def find_name():\n",
    "    pyautogui.hotkey('ctrl','u',pause=0.5)\n",
    "    pyautogui.hotkey('ctrl','a',pause=0.5)\n",
    "    pyautogui.hotkey('ctrl','c',pause=0.5)\n",
    "    sour = pyperclip.paste()\n",
    "    pyautogui.hotkey('ctrl','w',pause=0.5)\n",
    "    res_sou = re.findall(r'<meta name=\"keywords\" content=\".*?\"/>',sour,flags=re.DOTALL)[0][31:-3]\n",
    "    return res_sou\n",
    "\n",
    "def find_from_source(asource):\n",
    "    asource = asource.replace('\\r\\n','')\n",
    "    pinglun1 = pd.Series(re.findall(r'有内容按默.{10,10000}?（匿',asource,flags=re.DOTALL))\n",
    "    pinglun1 = pinglun1.map(lambda x:x[6:])\n",
    "    pinglun2 = pd.Series(re.findall(r'名）.{10,10000}?（匿',asource,flags=re.DOTALL))\n",
    "    pinglun = pd.concat([pinglun1,pinglun2])        \n",
    "\n",
    "    pinglun = pinglun.str.replace('.{5,5}解释：.*','')\n",
    "    pinglun = pinglun.str.replace('.*此用户没有填写评论!','')\n",
    "    pinglun = pinglun.str.replace('收货.*天后追加：','。')\n",
    "    pinglun = pinglun.str.replace('超级会员|名）|.{5,5}（匿','')\n",
    "    \n",
    "    pinglun = pinglun.str.replace('颜色分类：.*','')\n",
    "    pinglun = pinglun[pinglun.map(lambda x: False if '下一页' in x else True)]\n",
    "    pinglun = pinglun[pinglun.map(lambda x: False if '查看更多的' in x else True)]\n",
    "    return pinglun"
   ]
  },
  {
   "cell_type": "code",
   "execution_count": 5,
   "metadata": {},
   "outputs": [],
   "source": [
    "center = (940,545)\n",
    "yz1 = (815,600)\n",
    "yz2 = (1107,602)\n",
    "def yanzheng():\n",
    "    pyautogui.click((946,599),duration=1)\n",
    "    pyautogui.click(center,duration=1,pause=1)\n",
    "    pyautogui.press('pagedown')\n",
    "    clickk(yz1)\n",
    "    pyautogui.dragTo(yz2,tween=pyautogui.easeInBack,duration=2)\n",
    "    #pyautogui.press('f5')\n",
    "    time.sleep(5)\n",
    "    \n",
    "    for m in range(5):\n",
    "        pyautogui.press('pagedown')\n",
    "    clickk(leijipingjia)"
   ]
  },
  {
   "cell_type": "code",
   "execution_count": 6,
   "metadata": {},
   "outputs": [],
   "source": [
    "urllist = urllist[:11]"
   ]
  },
  {
   "cell_type": "code",
   "execution_count": 6,
   "metadata": {
    "scrolled": false
   },
   "outputs": [
    {
     "name": "stdout",
     "output_type": "stream",
     "text": [
      "Skechers斯凯奇情侣鞋D&#39;lites新款复古休闲鞋 时尚熊猫鞋99999745\n"
     ]
    },
    {
     "ename": "FailSafeException",
     "evalue": "PyAutoGUI fail-safe triggered from mouse moving to upper-left corner. To disable this fail-safe, set pyautogui.FAILSAFE to False.",
     "output_type": "error",
     "traceback": [
      "\u001b[1;31m---------------------------------------------------------------------------\u001b[0m",
      "\u001b[1;31mFailSafeException\u001b[0m                         Traceback (most recent call last)",
      "\u001b[1;32m<ipython-input-6-e87696f923d8>\u001b[0m in \u001b[0;36m<module>\u001b[1;34m\u001b[0m\n\u001b[0;32m     38\u001b[0m \u001b[1;33m\u001b[0m\u001b[0m\n\u001b[0;32m     39\u001b[0m     \u001b[1;32mfor\u001b[0m \u001b[0mn\u001b[0m \u001b[1;32min\u001b[0m \u001b[0mrange\u001b[0m\u001b[1;33m(\u001b[0m\u001b[0mpagehash\u001b[0m\u001b[1;33m)\u001b[0m\u001b[1;33m:\u001b[0m\u001b[1;33m\u001b[0m\u001b[1;33m\u001b[0m\u001b[0m\n\u001b[1;32m---> 40\u001b[1;33m         \u001b[0mclickk\u001b[0m\u001b[1;33m(\u001b[0m\u001b[0mdiyichuangkou\u001b[0m\u001b[1;33m)\u001b[0m\u001b[1;33m\u001b[0m\u001b[1;33m\u001b[0m\u001b[0m\n\u001b[0m\u001b[0;32m     41\u001b[0m         \u001b[0mpyautogui\u001b[0m\u001b[1;33m.\u001b[0m\u001b[0mhotkey\u001b[0m\u001b[1;33m(\u001b[0m\u001b[1;34m'ctrl'\u001b[0m\u001b[1;33m,\u001b[0m\u001b[1;34m'a'\u001b[0m\u001b[1;33m,\u001b[0m\u001b[0mpause\u001b[0m\u001b[1;33m=\u001b[0m\u001b[1;36m0.25\u001b[0m\u001b[1;33m)\u001b[0m\u001b[1;33m\u001b[0m\u001b[1;33m\u001b[0m\u001b[0m\n\u001b[0;32m     42\u001b[0m         \u001b[0mpyautogui\u001b[0m\u001b[1;33m.\u001b[0m\u001b[0mhotkey\u001b[0m\u001b[1;33m(\u001b[0m\u001b[1;34m'ctrl'\u001b[0m\u001b[1;33m,\u001b[0m\u001b[1;34m'c'\u001b[0m\u001b[1;33m,\u001b[0m\u001b[0mpause\u001b[0m\u001b[1;33m=\u001b[0m\u001b[1;36m0.15\u001b[0m\u001b[1;33m)\u001b[0m\u001b[1;33m\u001b[0m\u001b[1;33m\u001b[0m\u001b[0m\n",
      "\u001b[1;32m<ipython-input-4-631a074c79ea>\u001b[0m in \u001b[0;36mclickk\u001b[1;34m(atuple)\u001b[0m\n\u001b[0;32m      4\u001b[0m \u001b[1;33m\u001b[0m\u001b[0m\n\u001b[0;32m      5\u001b[0m \u001b[1;32mdef\u001b[0m \u001b[0mclickk\u001b[0m\u001b[1;33m(\u001b[0m\u001b[0matuple\u001b[0m\u001b[1;33m)\u001b[0m\u001b[1;33m:\u001b[0m\u001b[1;33m\u001b[0m\u001b[1;33m\u001b[0m\u001b[0m\n\u001b[1;32m----> 6\u001b[1;33m     \u001b[0mpyautogui\u001b[0m\u001b[1;33m.\u001b[0m\u001b[0mmoveTo\u001b[0m\u001b[1;33m(\u001b[0m\u001b[0matuple\u001b[0m\u001b[1;33m,\u001b[0m\u001b[0mduration\u001b[0m\u001b[1;33m=\u001b[0m\u001b[1;36m0.17\u001b[0m\u001b[1;33m,\u001b[0m\u001b[0mtween\u001b[0m\u001b[1;33m=\u001b[0m\u001b[0mpyautogui\u001b[0m\u001b[1;33m.\u001b[0m\u001b[0measeInQuad\u001b[0m\u001b[1;33m,\u001b[0m\u001b[0mpause\u001b[0m\u001b[1;33m=\u001b[0m\u001b[1;36m0.101\u001b[0m\u001b[1;33m)\u001b[0m\u001b[1;33m\u001b[0m\u001b[1;33m\u001b[0m\u001b[0m\n\u001b[0m\u001b[0;32m      7\u001b[0m     \u001b[0mpyautogui\u001b[0m\u001b[1;33m.\u001b[0m\u001b[0mclick\u001b[0m\u001b[1;33m(\u001b[0m\u001b[0mpause\u001b[0m\u001b[1;33m=\u001b[0m\u001b[1;36m0.101\u001b[0m\u001b[1;33m)\u001b[0m\u001b[1;33m\u001b[0m\u001b[1;33m\u001b[0m\u001b[0m\n\u001b[0;32m      8\u001b[0m \u001b[1;33m\u001b[0m\u001b[0m\n",
      "\u001b[1;32mf:\\miniconda3\\lib\\site-packages\\pyautogui\\__init__.py\u001b[0m in \u001b[0;36mmoveTo\u001b[1;34m(x, y, duration, tween, pause, _pause)\u001b[0m\n\u001b[0;32m    680\u001b[0m       \u001b[1;32mNone\u001b[0m\u001b[1;33m\u001b[0m\u001b[1;33m\u001b[0m\u001b[0m\n\u001b[0;32m    681\u001b[0m     \"\"\"\n\u001b[1;32m--> 682\u001b[1;33m     \u001b[0m_failSafeCheck\u001b[0m\u001b[1;33m(\u001b[0m\u001b[1;33m)\u001b[0m\u001b[1;33m\u001b[0m\u001b[1;33m\u001b[0m\u001b[0m\n\u001b[0m\u001b[0;32m    683\u001b[0m     \u001b[0mx\u001b[0m\u001b[1;33m,\u001b[0m \u001b[0my\u001b[0m \u001b[1;33m=\u001b[0m \u001b[0m_unpackXY\u001b[0m\u001b[1;33m(\u001b[0m\u001b[0mx\u001b[0m\u001b[1;33m,\u001b[0m \u001b[0my\u001b[0m\u001b[1;33m)\u001b[0m\u001b[1;33m\u001b[0m\u001b[1;33m\u001b[0m\u001b[0m\n\u001b[0;32m    684\u001b[0m \u001b[1;33m\u001b[0m\u001b[0m\n",
      "\u001b[1;32mf:\\miniconda3\\lib\\site-packages\\pyautogui\\__init__.py\u001b[0m in \u001b[0;36m_failSafeCheck\u001b[1;34m()\u001b[0m\n\u001b[0;32m   1112\u001b[0m \u001b[1;33m\u001b[0m\u001b[0m\n\u001b[0;32m   1113\u001b[0m     \u001b[1;32mif\u001b[0m \u001b[0mFAILSAFE\u001b[0m \u001b[1;32mand\u001b[0m \u001b[0mposition\u001b[0m\u001b[1;33m(\u001b[0m\u001b[1;33m)\u001b[0m \u001b[1;33m==\u001b[0m \u001b[0mFAILSAFE_POINT\u001b[0m\u001b[1;33m:\u001b[0m\u001b[1;33m\u001b[0m\u001b[1;33m\u001b[0m\u001b[0m\n\u001b[1;32m-> 1114\u001b[1;33m         \u001b[1;32mraise\u001b[0m \u001b[0mFailSafeException\u001b[0m\u001b[1;33m(\u001b[0m\u001b[1;34m'PyAutoGUI fail-safe triggered from mouse moving to upper-left corner. To disable this fail-safe, set pyautogui.FAILSAFE to False.'\u001b[0m\u001b[1;33m)\u001b[0m\u001b[1;33m\u001b[0m\u001b[1;33m\u001b[0m\u001b[0m\n\u001b[0m\u001b[0;32m   1115\u001b[0m \u001b[1;33m\u001b[0m\u001b[0m\n\u001b[0;32m   1116\u001b[0m \u001b[1;33m\u001b[0m\u001b[0m\n",
      "\u001b[1;31mFailSafeException\u001b[0m: PyAutoGUI fail-safe triggered from mouse moving to upper-left corner. To disable this fail-safe, set pyautogui.FAILSAFE to False."
     ]
    }
   ],
   "source": [
    "for url_order,url in enumerate(urllist):\n",
    "    url_order = url_order + 1\n",
    "    df = pd.Series([url,])\n",
    "    assert 'detail.tmall' in url\n",
    "    \n",
    "    #更改 URL 链接\n",
    "    pyautogui.click(diyichuangkou,pause=0.5)\n",
    "    pyautogui.click(urlxy,pause=0.5)\n",
    "    pyautogui.hotkey('ctrl','a',pause=0.5)\n",
    "    ppaste(url)\n",
    "    pyautogui.press('enter',pause=0.5)\n",
    "    for m in range(10):  #重定位-放正-页面位置\n",
    "        pyautogui.press('pageup')\n",
    "   \n",
    "    #从页面中提取到商品名称，filename，washto-rightname\n",
    "    filename = find_name()\n",
    "    filename = filename.replace('*','').replace('/','-').replace('\\'','').replace('\\r\\n','')\n",
    "    print(filename)\n",
    "   \n",
    "    #点击到累计评价，把搜索词更改为‘下一页’\n",
    "    for m in range(5):\n",
    "        pyautogui.press('pagedown')\n",
    "    pyautogui.click(leijipingjia,duration=1)\n",
    "    \n",
    "    pyautogui.hotkey('ctrl','f')\n",
    "    ppaste('下一页')\n",
    "    pyautogui.press('enter')\n",
    "    pyautogui.press('esc')\n",
    "    pyautogui.click(diyichuangkou,duration=1)\n",
    "    \n",
    "    #判断需要循环的页面数\n",
    "    pyautogui.hotkey('ctrl','a',pause=1)\n",
    "    pyautogui.hotkey('ctrl','c',pause=1)\n",
    "    zhengwen = pyperclip.paste()\n",
    "    pagenum = int(re.findall('累计评价 [0-9].*',zhengwen)[0][5:-1])\n",
    "    pagehash = pagenum // 20 + 5\n",
    "    pagehash = 120 if pagehash > 120 else pagehash\n",
    "    \n",
    "    for n in range(pagehash):\n",
    "        clickk(diyichuangkou)\n",
    "        pyautogui.hotkey('ctrl','a',pause=0.25)\n",
    "        pyautogui.hotkey('ctrl','c',pause=0.15)\n",
    "        zhengwen = pyperclip.paste()\n",
    "        time.sleep(0.25)\n",
    "        assert ('累计评价' in zhengwen) or ('验证' in zhengwen)\n",
    "    \n",
    "        try:\n",
    "            pinglun = find_from_source(zhengwen)\n",
    "            df = pd.concat([df,pinglun])\n",
    "        except:\n",
    "            raise TypeError\n",
    "    \n",
    "        if '为什么被折叠' in zhengwen:\n",
    "            break\n",
    "        \n",
    "        if pagenum < 20:\n",
    "            break\n",
    "        \n",
    "        if ('访问验证' in zhengwen) or ('为保证您的正' in zhengwen):\n",
    "            print('访问验证')\n",
    "            yanzheng()\n",
    "\n",
    "        find_nextpage()\n",
    "        pyautogui.click(xiayiye0,pause=0)\n",
    "        clickk(xiayiye)\n",
    "        time.sleep(1)\n",
    "        \n",
    "    rizhipath = str(url_order)+'_'+filename + '.xlsx'\n",
    "    pd.DataFrame([]).to_excel(rizhipath)\n",
    "    excelWriter = pd.ExcelWriter(rizhipath)\n",
    "    \n",
    "    df.drop_duplicates(inplace=True)\n",
    "    df.to_excel(excelWriter,index=False,encoding='gb18030',sheet_name='源数据',header=None)\n",
    "    gjc=[]\n",
    "    for x in df.map(jieba.analyse.textrank):\n",
    "        for y in x:\n",
    "            gjc.append(y)\n",
    "    pd.Series(gjc).value_counts().to_excel(excelWriter,sheet_name='源数据词频统计')\n",
    "    \n",
    "    excelWriter.save()\n",
    "    excelWriter.close()"
   ]
  },
  {
   "cell_type": "code",
   "execution_count": null,
   "metadata": {},
   "outputs": [],
   "source": []
  }
 ],
 "metadata": {
  "kernelspec": {
   "display_name": "Python 3",
   "language": "python",
   "name": "python3"
  },
  "language_info": {
   "codemirror_mode": {
    "name": "ipython",
    "version": 3
   },
   "file_extension": ".py",
   "mimetype": "text/x-python",
   "name": "python",
   "nbconvert_exporter": "python",
   "pygments_lexer": "ipython3",
   "version": "3.6.8"
  }
 },
 "nbformat": 4,
 "nbformat_minor": 2
}
